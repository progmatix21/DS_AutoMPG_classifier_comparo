{
 "cells": [
  {
   "cell_type": "markdown",
   "id": "d1996860",
   "metadata": {},
   "source": [
    "# Comparing three classifiers\n",
    "## On the autompg dataset"
   ]
  },
  {
   "cell_type": "code",
   "execution_count": 1,
   "id": "bd8737c9",
   "metadata": {},
   "outputs": [],
   "source": [
    "import numpy as np\n",
    "import pandas as pd\n",
    "from sklearn.metrics import accuracy_score, roc_curve, auc"
   ]
  },
  {
   "cell_type": "markdown",
   "id": "c218ff80",
   "metadata": {},
   "source": [
    "Start by importing the dataset. "
   ]
  },
  {
   "cell_type": "code",
   "execution_count": 2,
   "id": "edd1b2f3",
   "metadata": {},
   "outputs": [],
   "source": [
    "#importing the dataset\n",
    "dataset = pd.read_csv('auto-mpg.csv')"
   ]
  },
  {
   "cell_type": "markdown",
   "id": "5b9ea068",
   "metadata": {},
   "source": [
    "Drop the rows that contain missing values or impute them. Return the first four values of the origin column in the dataset."
   ]
  },
  {
   "cell_type": "code",
   "execution_count": 3,
   "id": "15706e89",
   "metadata": {},
   "outputs": [
    {
     "data": {
      "text/plain": [
       "0    1\n",
       "1    1\n",
       "2    1\n",
       "3    1\n",
       "4    1\n",
       "Name: origin, dtype: int64"
      ]
     },
     "execution_count": 3,
     "metadata": {},
     "output_type": "execute_result"
    }
   ],
   "source": [
    "#Drop rows with missing values\n",
    "dataset.dropna(inplace = True)\n",
    "dataset[\"origin\"].head()"
   ]
  },
  {
   "cell_type": "markdown",
   "id": "4bae50e2",
   "metadata": {},
   "source": [
    "Insert the feature called as is_american. When we insert this feature, we can reduce the origin classes from 3 to only 2."
   ]
  },
  {
   "cell_type": "code",
   "execution_count": 4,
   "id": "68e39da7",
   "metadata": {},
   "outputs": [],
   "source": [
    "# Insert feature is_american because we want 2 way classification\n",
    "# function to xform origin to american or non-american\n",
    "is_am = lambda orig : (0,1) [orig == 1]\n",
    "dataset[\"is_american\"] = dataset[\"origin\"].apply(is_am)"
   ]
  },
  {
   "cell_type": "markdown",
   "id": "0b38adf7",
   "metadata": {},
   "source": [
    "To verify, output all the values having the origin as 1. We have also specified a condition as is_american() that differentiates the cars that are American and non American."
   ]
  },
  {
   "cell_type": "code",
   "execution_count": 5,
   "id": "a596b8cd",
   "metadata": {},
   "outputs": [
    {
     "name": "stdout",
     "output_type": "stream",
     "text": [
      "     cylinders  displacement  horsepower  weight  acceleration  model year  \\\n",
      "0            8         307.0       130.0  3504.0          12.0          70   \n",
      "1            8         350.0       165.0  3693.0          11.5          70   \n",
      "2            8         318.0       150.0  3436.0          11.0          70   \n",
      "3            8         304.0       150.0  3433.0          12.0          70   \n",
      "4            8         302.0       140.0  3449.0          10.5          70   \n",
      "..         ...           ...         ...     ...           ...         ...   \n",
      "392          4         151.0        90.0  2950.0          17.3          82   \n",
      "393          4         140.0        86.0  2790.0          15.6          82   \n",
      "395          4         135.0        84.0  2295.0          11.6          82   \n",
      "396          4         120.0        79.0  2625.0          18.6          82   \n",
      "397          4         119.0        82.0  2720.0          19.4          82   \n",
      "\n",
      "     origin   mpg                   car name  is_american  \n",
      "0         1  18.0  chevrolet chevelle malibu            1  \n",
      "1         1  15.0          buick skylark 320            1  \n",
      "2         1  18.0         plymouth satellite            1  \n",
      "3         1  16.0              amc rebel sst            1  \n",
      "4         1  17.0                ford torino            1  \n",
      "..      ...   ...                        ...          ...  \n",
      "392       1  27.0           chevrolet camaro            1  \n",
      "393       1  27.0            ford mustang gl            1  \n",
      "395       1  32.0              dodge rampage            1  \n",
      "396       1  28.0                ford ranger            1  \n",
      "397       1  31.0                 chevy s-10            1  \n",
      "\n",
      "[245 rows x 10 columns]\n"
     ]
    }
   ],
   "source": [
    "print(dataset[dataset[\"origin\"]==1])"
   ]
  },
  {
   "cell_type": "markdown",
   "id": "3701651a",
   "metadata": {},
   "source": [
    "### Data Visualization\n",
    "\n",
    "We plot weight and mpg split on \"is_american\" feature. "
   ]
  },
  {
   "cell_type": "code",
   "execution_count": 6,
   "id": "331bb2a9",
   "metadata": {},
   "outputs": [],
   "source": [
    "#Prepare weight series for plotting\n",
    "wt_series_am = dataset[dataset[\"is_american\"]==1].weight\n",
    "wt_series_nonam = dataset[dataset[\"is_american\"]==0].weight\n",
    "wt_series = [list(wt_series_am)]+[list(wt_series_nonam)]\n",
    "# Prepare mpg series for plotting\n",
    "mpg_series_am = dataset[dataset[\"is_american\"]==1].mpg\n",
    "mpg_series_nonam = dataset[dataset[\"is_american\"]==0].mpg\n",
    "mpg_series = [list(mpg_series_am)]+[list(mpg_series_nonam)]"
   ]
  },
  {
   "cell_type": "markdown",
   "id": "556ade33",
   "metadata": {},
   "source": [
    "Plot the histograms of weight and mpg using matplotlib. We get various weight and mpg characteristics of American and non American cars."
   ]
  },
  {
   "cell_type": "code",
   "execution_count": 7,
   "id": "087aaf72",
   "metadata": {
    "tags": []
   },
   "outputs": [
    {
     "data": {
      "image/png": "[encoded data removed]",
      "text/plain": [
       "<Figure size 432x288 with 2 Axes>"
      ]
     },
     "metadata": {
      "needs_background": "light"
     },
     "output_type": "display_data"
    }
   ],
   "source": [
    "import matplotlib.pyplot as plt\n",
    "#histogram of weight\n",
    "num_bins = 20\n",
    "fig, ((ax0,ax1)) = plt.subplots(nrows = 1, ncols = 2)\n",
    "colors = ['red','green']\n",
    "labels = ['american','non-american']\n",
    "ax0.hist(wt_series, num_bins, histtype='bar', fill=True, density=False, stacked=True, color=colors, label=labels)\n",
    "ax0.legend(prop={'size': 10})\n",
    "ax0.set_xlabel(\"Weight\")\n",
    "ax0.set_ylabel(\"Frequency\")\n",
    "ax0.set_title(\"Distribution of weight\")\n",
    "#Histogram of mpg\n",
    "\n",
    "ax1.hist(mpg_series, num_bins, histtype=\"bar\", fill=True, density=False, stacked=True, color=colors, label=labels)\n",
    "ax1.legend(prop={'size':10})\n",
    "ax1.set_xlabel(\"MPG\")\n",
    "ax1.set_ylabel(\"Frequency\")\n",
    "ax1.set_title(\"Distribution of MPG\")\n",
    "fig.tight_layout()\n",
    "plt.show()"
   ]
  },
  {
   "cell_type": "markdown",
   "id": "6719f97e",
   "metadata": {},
   "source": [
    "From the above histograms, we see that American cars are heavier and offer low mpg as compared to the non-American ones."
   ]
  },
  {
   "cell_type": "code",
   "execution_count": 8,
   "id": "90b6def6",
   "metadata": {},
   "outputs": [],
   "source": [
    "# Start importing modules for the classification step. \n",
    "from sklearn.metrics import confusion_matrix, accuracy_score, roc_curve, auc\n",
    "from sklearn.model_selection import KFold, StratifiedKFold"
   ]
  },
  {
   "cell_type": "markdown",
   "id": "02c517b0",
   "metadata": {},
   "source": [
    "Assign the features and the label. The features are assigned as X and the label is assigned as y."
   ]
  },
  {
   "cell_type": "code",
   "execution_count": 9,
   "id": "7e04744e",
   "metadata": {},
   "outputs": [],
   "source": [
    "#Separate the features and the label field\n",
    "X = dataset.drop([\"is_american\",\"origin\",\"car name\"], axis=1)\n",
    "y = dataset[\"is_american\"]  "
   ]
  },
  {
   "cell_type": "code",
   "execution_count": 10,
   "id": "bedc62dc",
   "metadata": {
    "tags": []
   },
   "outputs": [],
   "source": [
    "#Splitting the dataset into training and test set.\n",
    "from sklearn.model_selection import train_test_split\n",
    "X_train, X_test, y_train, y_test = train_test_split(X,y, test_size=0.25, random_state=0)"
   ]
  },
  {
   "cell_type": "markdown",
   "id": "8d83c32d",
   "metadata": {},
   "source": [
    "We create all the three classifiers: logistic regression, naive bayes and knn."
   ]
  },
  {
   "cell_type": "code",
   "execution_count": 11,
   "id": "04abfc9d",
   "metadata": {},
   "outputs": [],
   "source": [
    "# Creating the first classifier - Logistic Regressor\n",
    "from sklearn.linear_model import LogisticRegression\n",
    "classifier_lor = LogisticRegression(random_state=0, solver='liblinear')\n",
    "#Create the second classifier - Naive Bayes\n",
    "from sklearn.naive_bayes import GaussianNB, CategoricalNB\n",
    "classifier_nb = GaussianNB()\n",
    "#Create the third classifier - knn\n",
    "from sklearn.neighbors import KNeighborsClassifier\n",
    "classifier_knn = KNeighborsClassifier(n_neighbors = 5)"
   ]
  },
  {
   "cell_type": "code",
   "execution_count": 12,
   "id": "21508c5a",
   "metadata": {},
   "outputs": [
    {
     "name": "stdout",
     "output_type": "stream",
     "text": [
      "StratifiedKFold(n_splits=10, random_state=None, shuffle=True)\n"
     ]
    }
   ],
   "source": [
    "#create a 10 fold splitter\n",
    "skf10 = StratifiedKFold(n_splits=10, shuffle = True, random_state = None)\n",
    "print(skf10)"
   ]
  },
  {
   "cell_type": "code",
   "execution_count": 13,
   "id": "3bd5e1cd",
   "metadata": {},
   "outputs": [
    {
     "name": "stdout",
     "output_type": "stream",
     "text": [
      "Accuracy score lor,nb,knn: 0.925 0.875 0.825\n",
      "Accuracy score lor,nb,knn: 0.875 0.775 0.775\n",
      "Accuracy score lor,nb,knn: 0.9230769230769231 0.7948717948717948 0.7948717948717948\n",
      "Accuracy score lor,nb,knn: 0.8461538461538461 0.7948717948717948 0.7948717948717948\n",
      "Accuracy score lor,nb,knn: 0.7948717948717948 0.6666666666666666 0.7948717948717948\n",
      "Accuracy score lor,nb,knn: 0.9230769230769231 0.7948717948717948 0.9230769230769231\n",
      "Accuracy score lor,nb,knn: 0.9230769230769231 0.8974358974358975 0.8974358974358975\n",
      "Accuracy score lor,nb,knn: 0.9230769230769231 0.8717948717948718 0.8461538461538461\n",
      "Accuracy score lor,nb,knn: 0.8205128205128205 0.6923076923076923 0.7692307692307693\n",
      "Accuracy score lor,nb,knn: 0.8717948717948718 0.7948717948717948 0.7948717948717948\n"
     ]
    }
   ],
   "source": [
    "# We train and test all the three classifiers using cross validation.\n",
    "for train_index, test_index in skf10.split(X,y):\n",
    "    X_train, X_test = X.iloc[train_index], X.iloc[test_index]\n",
    "    y_train, y_test = y.iloc[train_index], y.iloc[test_index]\n",
    "    #train the log reg classifier\n",
    "    classifier_lor.fit(X_train, y_train)\n",
    "    y_pred_lor = classifier_lor.predict(X_test)\n",
    "    #train the naive bayes classifier\n",
    "    classifier_nb.fit(X_train, y_train)\n",
    "    y_pred_nb = classifier_nb.predict(X_test)\n",
    "    #train the knn classifier\n",
    "    classifier_knn.fit(X_train, y_train)\n",
    "    y_pred_knn = classifier_knn.predict(X_test)\n",
    "    print(\"Accuracy score lor,nb,knn:\", accuracy_score(y_test,y_pred_lor), accuracy_score(y_test,y_pred_nb),\n",
    "    accuracy_score(y_test,y_pred_knn))"
   ]
  },
  {
   "cell_type": "code",
   "execution_count": 14,
   "id": "10d75414",
   "metadata": {},
   "outputs": [
    {
     "name": "stdout",
     "output_type": "stream",
     "text": [
      "confusion matrix for LOR:\n",
      "  [[12  3]\n",
      " [ 2 22]]\n",
      "confusion matrix for NB:\n",
      " [[14  1]\n",
      " [ 7 17]]\n",
      "confusion matrix for KNN:\n",
      " [[13  2]\n",
      " [ 6 18]]\n"
     ]
    }
   ],
   "source": [
    "#Confusion matrix for all three classifiers.\n",
    "from sklearn.metrics import confusion_matrix\n",
    "cm_lor = confusion_matrix(y_test,y_pred_lor)\n",
    "cm_nb = confusion_matrix(y_test,y_pred_nb)\n",
    "cm_knn = confusion_matrix(y_test,y_pred_knn)\n",
    "print(\"confusion matrix for LOR:\\n \",cm_lor)\n",
    "print(\"confusion matrix for NB:\\n\", cm_nb)\n",
    "print(\"confusion matrix for KNN:\\n\", cm_knn)"
   ]
  },
  {
   "cell_type": "code",
   "execution_count": 15,
   "id": "631ebe02",
   "metadata": {},
   "outputs": [],
   "source": [
    "#generate the ROC curve\n",
    "from sklearn.metrics import roc_curve, auc\n",
    "probs_lor = classifier_lor.predict_proba(X_test)\n",
    "probs_nb = classifier_nb.predict_proba(X_test)\n",
    "probs_knn = classifier_knn.predict_proba(X_test)"
   ]
  },
  {
   "cell_type": "code",
   "execution_count": 16,
   "id": "c15d2142",
   "metadata": {},
   "outputs": [],
   "source": [
    "#create a color carousel and a linestyle carousel as generators for the ROC plot.\n",
    "from itertools import cycle\n",
    "plotcol = (col for col in cycle(['aqua','darkorange','cornflowerblue','navy','blue','green']))\n",
    "lstyle = (style for style in cycle(['dashed','solid','dotted','dashdot']))"
   ]
  },
  {
   "cell_type": "code",
   "execution_count": 17,
   "id": "9037fc25",
   "metadata": {},
   "outputs": [
    {
     "name": "stdout",
     "output_type": "stream",
     "text": [
      "logreg auc:0.9583\n",
      "nb auc:0.9083\n",
      "knn auc:0.8931\n"
     ]
    },
    {
     "data": {
      "image/png": "[encoded data removed]",
      "text/plain": [
       "<Figure size 432x288 with 1 Axes>"
      ]
     },
     "metadata": {
      "needs_background": "light"
     },
     "output_type": "display_data"
    }
   ],
   "source": [
    "# We calculate TPR and FPR for each classifier and add its ROC curve to the plot.\n",
    "for cfr_name,cfr_probs in {\"logreg\":probs_lor, \"nb\":probs_nb, \"knn\":probs_knn}.items():\n",
    "    fpr, tpr,_ = roc_curve(y_test, cfr_probs[:,1]) # want probability of positive class\n",
    "    roc_auc = auc(fpr,tpr)\n",
    "    label_str = '%s auc:%0.4f' % (cfr_name, roc_auc)\n",
    "    print(label_str)\n",
    "    plt.plot(fpr, tpr, color=next(plotcol), linewidth=3, linestyle=next(lstyle), label = label_str, alpha=0.6)\n",
    "\n",
    "plt.legend(loc='lower right')\n",
    "plt.xlabel(\"FPR\")\n",
    "plt.ylabel(\"TPR\")\n",
    "plt.title(\"ROC curve: 3 classifiers\")\n",
    "plt.show()"
   ]
  },
  {
   "cell_type": "markdown",
   "id": "63b4569d",
   "metadata": {},
   "source": [
    "#### Precision and Recall"
   ]
  },
  {
   "cell_type": "code",
   "execution_count": 18,
   "id": "05e4a116",
   "metadata": {},
   "outputs": [
    {
     "data": {
      "image/png": "[encoded data removed]",
      "text/plain": [
       "<Figure size 432x288 with 1 Axes>"
      ]
     },
     "metadata": {
      "needs_background": "light"
     },
     "output_type": "display_data"
    }
   ],
   "source": [
    "# precision and recall for all three classifiers.\n",
    "from sklearn.metrics import precision_recall_curve, average_precision_score\n",
    "\n",
    "precision_lor, recall_lor, _ = precision_recall_curve(y_test, probs_lor[:,1])\n",
    "precision_nb, recall_nb, _ = precision_recall_curve(y_test, probs_nb[:,1])\n",
    "precision_knn, recall_knn, _ = precision_recall_curve(y_test, probs_knn[:,1])\n",
    "\n",
    "\n",
    "plt.plot(recall_lor, precision_lor, color = 'r', label='LOR')\n",
    "plt.plot(recall_nb, precision_nb, color = 'b', label = 'NB')\n",
    "plt.plot(recall_knn, precision_knn, color = 'g', label = 'KNN')\n",
    "plt.legend(loc='best')\n",
    "plt.xlabel(\"Recall\")\n",
    "plt.ylabel(\"Precision\")\n",
    "plt.title(\"Precision-Recall curve: 3 classifiers\")\n",
    "plt.show()"
   ]
  },
  {
   "cell_type": "code",
   "execution_count": 19,
   "id": "e268650a",
   "metadata": {},
   "outputs": [
    {
     "name": "stdout",
     "output_type": "stream",
     "text": [
      "[0.70588235 0.6969697  0.71875    0.74193548 0.76666667 0.79310345\n",
      " 0.82142857 0.85185185 0.88461538 0.88       0.91666667 0.91304348\n",
      " 0.95454545 1.         1.         1.         1.         1.\n",
      " 1.         1.         1.         1.         1.         1.\n",
      " 1.         1.         1.         1.         1.         1.\n",
      " 1.         1.         1.         1.         1.        ] [1.         0.95833333 0.95833333 0.95833333 0.95833333 0.95833333\n",
      " 0.95833333 0.95833333 0.95833333 0.91666667 0.91666667 0.875\n",
      " 0.875      0.875      0.83333333 0.79166667 0.75       0.70833333\n",
      " 0.66666667 0.625      0.58333333 0.54166667 0.5        0.45833333\n",
      " 0.41666667 0.375      0.33333333 0.29166667 0.25       0.20833333\n",
      " 0.16666667 0.125      0.08333333 0.04166667 0.        ]\n"
     ]
    }
   ],
   "source": [
    "print(precision_lor, recall_lor)"
   ]
  },
  {
   "cell_type": "code",
   "execution_count": 20,
   "id": "e9fcd823",
   "metadata": {},
   "outputs": [
    {
     "name": "stdout",
     "output_type": "stream",
     "text": [
      "Recall lor: 0.917\n"
     ]
    }
   ],
   "source": [
    "# Recall Score\n",
    "from sklearn.metrics import recall_score\n",
    "recall_lor = recall_score(y_test, y_pred_lor, average='binary')\n",
    "print('Recall lor: %.3f' % recall_lor)"
   ]
  },
  {
   "cell_type": "code",
   "execution_count": null,
   "id": "9ce791d9",
   "metadata": {},
   "outputs": [],
   "source": []
  },
  {
   "cell_type": "code",
   "execution_count": null,
   "id": "cfc73c34",
   "metadata": {},
   "outputs": [],
   "source": []
  }
 ],
 "metadata": {
  "kernelspec": {
   "display_name": "Python 3",
   "language": "python",
   "name": "python3"
  },
  "language_info": {
   "codemirror_mode": {
    "name": "ipython",
    "version": 3
   },
   "file_extension": ".py",
   "mimetype": "text/x-python",
   "name": "python",
   "nbconvert_exporter": "python",
   "pygments_lexer": "ipython3",
   "version": "3.8.5"
  }
 },
 "nbformat": 4,
 "nbformat_minor": 5
}
